{
  "nbformat": 4,
  "nbformat_minor": 0,
  "metadata": {
    "colab": {
      "provenance": [],
      "collapsed_sections": [
        "tYazNFpF8n7O",
        "7GIj7OBUUzz6",
        "-fdKqXXAXR7Y",
        "GeoKYy7zc01m"
      ],
      "authorship_tag": "ABX9TyNYPJT38BVrel+Sx+sscSCy",
      "include_colab_link": true
    },
    "kernelspec": {
      "name": "python3",
      "display_name": "Python 3"
    },
    "language_info": {
      "name": "python"
    }
  },
  "cells": [
    {
      "cell_type": "markdown",
      "metadata": {
        "id": "view-in-github",
        "colab_type": "text"
      },
      "source": [
        "<a href=\"https://colab.research.google.com/github/RafaelZanette/Projeto-integrador-2021-IoT-/blob/main/oil_product_monthly_deliveries_ireland_2018_2021.ipynb\" target=\"_parent\"><img src=\"https://colab.research.google.com/assets/colab-badge.svg\" alt=\"Open In Colab\"/></a>"
      ]
    },
    {
      "cell_type": "markdown",
      "source": [
        "**Oil Product Monthly Deliveries Ireland**\n",
        "\n",
        "This is a study about the data of Oil Product Monthly Deliveries Ireland between 2018 and 2021.\n",
        "\n",
        "Link of Data: https://data.gov.ie/dataset/oil-product-monthly-deliveries-ireland"
      ],
      "metadata": {
        "id": "uJbmW6fP9CJf"
      }
    },
    {
      "cell_type": "code",
      "source": [],
      "metadata": {
        "id": "9lIJ0snnpMd3"
      },
      "execution_count": null,
      "outputs": []
    },
    {
      "cell_type": "markdown",
      "source": [
        "#**1 - Exploring the data**"
      ],
      "metadata": {
        "id": "tYazNFpF8n7O"
      }
    },
    {
      "cell_type": "code",
      "execution_count": null,
      "metadata": {
        "id": "UIYL-kvC8bEy"
      },
      "outputs": [],
      "source": [
        "import pandas as pd\n",
        "import numpy as np\n",
        "import matplotlib.pyplot as plt"
      ]
    },
    {
      "cell_type": "code",
      "source": [
        "df2018 = pd.read_csv('/content/OilProducts_monthlyDeliveries_2018.csv')\n",
        "df2019 = pd.read_csv('/content/OilProducts_monthlyDeliveries_2019.csv')\n",
        "df2020 = pd.read_csv('/content/OilProducts_monthlyDeliveries_2020.csv')\n",
        "df2021 = pd.read_csv('/content/OilProducts_monthlyDeliveries_2021.csv')"
      ],
      "metadata": {
        "id": "Ip8R5iW49QIW"
      },
      "execution_count": null,
      "outputs": []
    },
    {
      "cell_type": "code",
      "source": [
        "df2018.info()\n",
        "df2019.info()\n",
        "df2020.info()\n",
        "df2021.info()"
      ],
      "metadata": {
        "colab": {
          "base_uri": "https://localhost:8080/"
        },
        "id": "GGwyk_1o9sE8",
        "outputId": "ebaa63d3-1672-46ad-e910-4d275ad59dab"
      },
      "execution_count": null,
      "outputs": [
        {
          "output_type": "stream",
          "name": "stdout",
          "text": [
            "<class 'pandas.core.frame.DataFrame'>\n",
            "RangeIndex: 72 entries, 0 to 71\n",
            "Data columns (total 4 columns):\n",
            " #   Column   Non-Null Count  Dtype \n",
            "---  ------   --------------  ----- \n",
            " 0   year     72 non-null     int64 \n",
            " 1   month    72 non-null     int64 \n",
            " 2   product  72 non-null     object\n",
            " 3   TJ.NCV   72 non-null     int64 \n",
            "dtypes: int64(3), object(1)\n",
            "memory usage: 2.4+ KB\n",
            "<class 'pandas.core.frame.DataFrame'>\n",
            "RangeIndex: 72 entries, 0 to 71\n",
            "Data columns (total 4 columns):\n",
            " #   Column   Non-Null Count  Dtype \n",
            "---  ------   --------------  ----- \n",
            " 0   year     72 non-null     int64 \n",
            " 1   month    72 non-null     int64 \n",
            " 2   product  72 non-null     object\n",
            " 3   TJ.NCV   72 non-null     int64 \n",
            "dtypes: int64(3), object(1)\n",
            "memory usage: 2.4+ KB\n",
            "<class 'pandas.core.frame.DataFrame'>\n",
            "RangeIndex: 72 entries, 0 to 71\n",
            "Data columns (total 4 columns):\n",
            " #   Column   Non-Null Count  Dtype \n",
            "---  ------   --------------  ----- \n",
            " 0   year     72 non-null     int64 \n",
            " 1   month    72 non-null     int64 \n",
            " 2   product  72 non-null     object\n",
            " 3   TJ.NCV   72 non-null     int64 \n",
            "dtypes: int64(3), object(1)\n",
            "memory usage: 2.4+ KB\n",
            "<class 'pandas.core.frame.DataFrame'>\n",
            "RangeIndex: 72 entries, 0 to 71\n",
            "Data columns (total 4 columns):\n",
            " #   Column   Non-Null Count  Dtype \n",
            "---  ------   --------------  ----- \n",
            " 0   year     72 non-null     int64 \n",
            " 1   month    72 non-null     int64 \n",
            " 2   product  72 non-null     object\n",
            " 3   TJ.NCV   72 non-null     int64 \n",
            "dtypes: int64(3), object(1)\n",
            "memory usage: 2.4+ KB\n"
          ]
        }
      ]
    },
    {
      "cell_type": "code",
      "source": [
        "print('In 2018 the max value is ',df2018['TJ.NCV'].max() , ' and the min value is', df2018['TJ.NCV'].min())\n",
        "print('In 2019 the max value is ',df2019['TJ.NCV'].max() , ' and the min value is', df2019['TJ.NCV'].min())\n",
        "print('In 2020 the max value is ',df2020['TJ.NCV'].max() , ' and the min value is', df2020['TJ.NCV'].min())\n",
        "print('In 2021 the max value is ',df2021['TJ.NCV'].max() , ' and the min value is', df2021['TJ.NCV'].min())"
      ],
      "metadata": {
        "colab": {
          "base_uri": "https://localhost:8080/"
        },
        "id": "rquGB0zg-A9I",
        "outputId": "ee4e6cf0-2be6-4ba0-8a09-4af7f1731ebc"
      },
      "execution_count": null,
      "outputs": [
        {
          "output_type": "stream",
          "name": "stdout",
          "text": [
            "In 2018 the max value is  27014  and the min value is 575\n",
            "In 2019 the max value is  26093  and the min value is 840\n",
            "In 2020 the max value is  25093  and the min value is 522\n",
            "In 2021 the max value is  23984  and the min value is 694\n"
          ]
        }
      ]
    },
    {
      "cell_type": "markdown",
      "source": [
        "#**2 - Processing the data**"
      ],
      "metadata": {
        "id": "7GIj7OBUUzz6"
      }
    },
    {
      "cell_type": "code",
      "source": [
        "df2018 = df2018.sort_values(by=['month'], ascending = True)\n",
        "df2019 = df2019.sort_values(by=['month'], ascending = True)\n",
        "df2020 = df2020.sort_values(by=['month'], ascending = True)\n",
        "df2021 = df2021.sort_values(by=['month'], ascending = True)"
      ],
      "metadata": {
        "id": "z_ee60T6-vz8"
      },
      "execution_count": null,
      "outputs": []
    },
    {
      "cell_type": "code",
      "source": [
        "#2018\n",
        "df2018['months'] = df2018['month']\n",
        "df2018['TJ.NCV/1000'] = df2018['TJ.NCV']/1000\n",
        "\n",
        "#2019\n",
        "df2019['months'] = df2019['month']\n",
        "df2019['TJ.NCV/1000'] = df2019['TJ.NCV']/1000\n",
        "\n",
        "#2020\n",
        "df2020['months'] = df2020['month']\n",
        "df2020['TJ.NCV/1000'] = df2020['TJ.NCV']/1000\n",
        "\n",
        "#2021\n",
        "df2021['months'] = df2021['month']\n",
        "df2021['TJ.NCV/1000'] = df2021['TJ.NCV']/1000"
      ],
      "metadata": {
        "id": "cIF3sAEeVQF4"
      },
      "execution_count": null,
      "outputs": []
    },
    {
      "cell_type": "code",
      "source": [
        "#2018\n",
        "df2018['months'].replace(1, 'jan', inplace=True)\n",
        "df2018['months'].replace(2, 'fev', inplace=True)\n",
        "df2018['months'].replace(3, 'mar', inplace=True)\n",
        "df2018['months'].replace(4, 'apr', inplace=True)\n",
        "df2018['months'].replace(5, 'may', inplace=True)\n",
        "df2018['months'].replace(6, 'jun', inplace=True)\n",
        "df2018['months'].replace(7, 'jul', inplace=True)\n",
        "df2018['months'].replace(8, 'aug', inplace=True)\n",
        "df2018['months'].replace(9, 'sep', inplace=True)\n",
        "df2018['months'].replace(10, 'oct', inplace=True)\n",
        "df2018['months'].replace(11, 'nov', inplace=True)\n",
        "df2018['months'].replace(12, 'dec', inplace=True)\n",
        "\n",
        "#2019\n",
        "df2019['months'].replace(1, 'jan', inplace=True)\n",
        "df2019['months'].replace(2, 'fev', inplace=True)\n",
        "df2019['months'].replace(3, 'mar', inplace=True)\n",
        "df2019['months'].replace(4, 'apr', inplace=True)\n",
        "df2019['months'].replace(5, 'may', inplace=True)\n",
        "df2019['months'].replace(6, 'jun', inplace=True)\n",
        "df2019['months'].replace(7, 'jul', inplace=True)\n",
        "df2019['months'].replace(8, 'aug', inplace=True)\n",
        "df2019['months'].replace(9, 'sep', inplace=True)\n",
        "df2019['months'].replace(10, 'oct', inplace=True)\n",
        "df2019['months'].replace(11, 'nov', inplace=True)\n",
        "df2019['months'].replace(12, 'dec', inplace=True)\n",
        "\n",
        "#2020\n",
        "df2020['months'].replace(1, 'jan', inplace=True)\n",
        "df2020['months'].replace(2, 'fev', inplace=True)\n",
        "df2020['months'].replace(3, 'mar', inplace=True)\n",
        "df2020['months'].replace(4, 'apr', inplace=True)\n",
        "df2020['months'].replace(5, 'may', inplace=True)\n",
        "df2020['months'].replace(6, 'jun', inplace=True)\n",
        "df2020['months'].replace(7, 'jul', inplace=True)\n",
        "df2020['months'].replace(8, 'aug', inplace=True)\n",
        "df2020['months'].replace(9, 'sep', inplace=True)\n",
        "df2020['months'].replace(10, 'oct', inplace=True)\n",
        "df2020['months'].replace(11, 'nov', inplace=True)\n",
        "df2020['months'].replace(12, 'dec', inplace=True)\n",
        "\n",
        "#2021\n",
        "df2021['months'].replace(1, 'jan', inplace=True)\n",
        "df2021['months'].replace(2, 'fev', inplace=True)\n",
        "df2021['months'].replace(3, 'mar', inplace=True)\n",
        "df2021['months'].replace(4, 'apr', inplace=True)\n",
        "df2021['months'].replace(5, 'may', inplace=True)\n",
        "df2021['months'].replace(6, 'jun', inplace=True)\n",
        "df2021['months'].replace(7, 'jul', inplace=True)\n",
        "df2021['months'].replace(8, 'aug', inplace=True)\n",
        "df2021['months'].replace(9, 'sep', inplace=True)\n",
        "df2021['months'].replace(10, 'oct', inplace=True)\n",
        "df2021['months'].replace(11, 'nov', inplace=True)\n",
        "df2021['months'].replace(12, 'dec', inplace=True)"
      ],
      "metadata": {
        "id": "rKDsujooWVw9"
      },
      "execution_count": null,
      "outputs": []
    },
    {
      "cell_type": "markdown",
      "source": [
        "#**3 - Creating news dataframes**"
      ],
      "metadata": {
        "id": "-fdKqXXAXR7Y"
      }
    },
    {
      "cell_type": "code",
      "source": [
        "#Total of Five Fuels\n",
        "#2018\n",
        "df2018_total = df2018[df2018['product']=='Total of Five Fuels']\n",
        "\n",
        "#2019\n",
        "df2019_total = df2019[df2019['product']=='Total of Five Fuels']\n",
        "\n",
        "#2020\n",
        "df2020_total = df2020[df2020['product']=='Total of Five Fuels']\n",
        "\n",
        "#2021\n",
        "df2021_total = df2021[df2021['product']=='Total of Five Fuels']\n"
      ],
      "metadata": {
        "id": "x8AQNXFSXdRf"
      },
      "execution_count": null,
      "outputs": []
    },
    {
      "cell_type": "code",
      "source": [
        "#Road Diesel\n",
        "#2018\n",
        "df2018_rd = df2018[df2018['product']=='Road Diesel']\n",
        "\n",
        "#2019\n",
        "df2019_rd = df2019[df2019['product']=='Road Diesel']\n",
        "\n",
        "#2020\n",
        "df2020_rd = df2020[df2020['product']=='Road Diesel']\n",
        "\n",
        "#2021\n",
        "df2021_rd = df2021[df2021['product']=='Road Diesel']"
      ],
      "metadata": {
        "id": "KBpLipnIZLtm"
      },
      "execution_count": null,
      "outputs": []
    },
    {
      "cell_type": "code",
      "source": [
        "#Motor Petrol\n",
        "#2018\n",
        "df2018_mp = df2018[df2018['product']=='Motor Petrol']\n",
        "\n",
        "#2019\n",
        "df2019_mp = df2019[df2019['product']=='Motor Petrol']\n",
        "\n",
        "#2020\n",
        "df2020_mp = df2020[df2020['product']=='Motor Petrol']\n",
        "\n",
        "#2021\n",
        "df2021_mp = df2021[df2021['product']=='Motor Petrol']"
      ],
      "metadata": {
        "id": "e8QgGqfbaK1J"
      },
      "execution_count": null,
      "outputs": []
    },
    {
      "cell_type": "code",
      "source": [
        "#Jet Fuel Kerosene\n",
        "#2018\n",
        "df2018_jfk = df2018[df2018['product']=='Jet Fuel Kerosene']\n",
        "\n",
        "#2019\n",
        "df2019_jfk = df2019[df2019['product']=='Jet Fuel Kerosene']\n",
        "\n",
        "#2020\n",
        "df2020_jfk = df2020[df2020['product']=='Jet Fuel Kerosene']\n",
        "\n",
        "#2021\n",
        "df2021_jfk = df2021[df2021['product']=='Jet Fuel Kerosene']"
      ],
      "metadata": {
        "id": "UJWzVC4PaolS"
      },
      "execution_count": null,
      "outputs": []
    },
    {
      "cell_type": "code",
      "source": [
        "#Heating and Other Gas Oil\n",
        "#2018\n",
        "df2018_hogo = df2018[df2018['product']=='Heating and Other Gas Oil']\n",
        "\n",
        "#2019\n",
        "df2019_hogo = df2019[df2019['product']=='Heating and Other Gas Oil']\n",
        "\n",
        "#2020\n",
        "df2020_hogo = df2020[df2020['product']=='Heating and Other Gas Oil']\n",
        "\n",
        "#2021\n",
        "df2021_hogo = df2021[df2021['product']=='Heating and Other Gas Oil']"
      ],
      "metadata": {
        "id": "tbciulAKblZa"
      },
      "execution_count": null,
      "outputs": []
    },
    {
      "cell_type": "code",
      "source": [
        "#Total of Five Fuels\n",
        "df_total =  pd.concat([df2018_total,df2019_total,df2020_total,df2021_total], ignore_index=True)\n",
        "\n",
        "#Road Diesel\n",
        "df_rd =  pd.concat([df2018_rd,df2019_rd,df2020_rd,df2021_rd], ignore_index=True)\n",
        "\n",
        "#Motor Petrol\n",
        "df_mp =  pd.concat([df2018_mp,df2019_mp,df2020_mp,df2021_mp], ignore_index=True)\n",
        "\n",
        "#Jet Fuel Kerosene\n",
        "df_jfk =  pd.concat([df2018_jfk,df2019_jfk,df2020_jfk,df2021_jfk], ignore_index=True)\n",
        "\n",
        "#Heating and Other Gas Oil\n",
        "df_hogo =  pd.concat([df2018_hogo,df2019_hogo,df2020_hogo,df2021_hogo], ignore_index=True)"
      ],
      "metadata": {
        "id": "pxaYXcrezj4y"
      },
      "execution_count": null,
      "outputs": []
    },
    {
      "cell_type": "markdown",
      "source": [
        "#**4 - Ploting the data**"
      ],
      "metadata": {
        "id": "GeoKYy7zc01m"
      }
    },
    {
      "cell_type": "code",
      "source": [
        "import plotly.express as px\n",
        "import plotly\n",
        "import sys"
      ],
      "metadata": {
        "id": "FKbTiDEyc5J9"
      },
      "execution_count": null,
      "outputs": []
    },
    {
      "cell_type": "code",
      "source": [
        "!pip install -U kaleido"
      ],
      "metadata": {
        "colab": {
          "base_uri": "https://localhost:8080/"
        },
        "id": "S4h6UPFDk3ic",
        "outputId": "a2267c9d-be7a-48c3-ac99-0776f09a420e"
      },
      "execution_count": null,
      "outputs": [
        {
          "output_type": "stream",
          "name": "stdout",
          "text": [
            "Requirement already satisfied: kaleido in /usr/local/lib/python3.10/dist-packages (0.2.1)\n"
          ]
        }
      ]
    },
    {
      "cell_type": "code",
      "source": [
        "#Total\n",
        "a = int(input('Which king of graph would you like to plot? \\n 1 - Total of Five Fuels \\n 2 - Road Diesel \\n 3 - Motor Petrol \\n 4 - Jet Fuel Kerosene \\n 5 - Heating and Other Gas Oil'))\n",
        "if a == 1:\n",
        "  b=df_total\n",
        "  c = 'Total of Five Fuels'\n",
        "elif a == 2:\n",
        "  b=df_rd\n",
        "  c = 'Road Diesel'\n",
        "elif a == 3:\n",
        "  b=df_mp\n",
        "  c = 'Motor Petrol'\n",
        "elif a == 4:\n",
        "  b=df_jfk\n",
        "  c = 'Jet Fuel Kerosene'\n",
        "elif a == 5:\n",
        "  b=df_hogo\n",
        "  c = 'Heating and Other Gas Oil'\n",
        "else:\n",
        "  print('Invalid option')\n",
        "fig = px.line(b ,x = 'months', y = 'TJ.NCV/1000', color ='year', title = 'Oil Product Monthly Deliveries Ireland - {c}'.format(c=c), markers='s')\n",
        "fig.update_layout(title_x= 0.5, title_font = {'size':30})\n",
        "\n",
        "\n",
        "plotly.offline.plot(fig)\n",
        "\n",
        "fig.show()"
      ],
      "metadata": {
        "colab": {
          "base_uri": "https://localhost:8080/",
          "height": 646
        },
        "id": "bgA3HEhhlAJE",
        "outputId": "75cbe180-7e06-489f-843c-ed536515b4a7"
      },
      "execution_count": null,
      "outputs": [
        {
          "name": "stdout",
          "output_type": "stream",
          "text": [
            "Which king of graph would you like to plot? \n",
            " 1 - Total of Five Fuels \n",
            " 2 - Road Diesel \n",
            " 3 - Motor Petrol \n",
            " 4 - Jet Fuel Kerosene \n",
            " 5 - Heating and Other Gas Oil4\n"
          ]
        },
        {
          "output_type": "display_data",
          "data": {
            "text/html": [
              "<html>\n",
              "<head><meta charset=\"utf-8\" /></head>\n",
              "<body>\n",
              "    <div>            <script src=\"https://cdnjs.cloudflare.com/ajax/libs/mathjax/2.7.5/MathJax.js?config=TeX-AMS-MML_SVG\"></script><script type=\"text/javascript\">if (window.MathJax && window.MathJax.Hub && window.MathJax.Hub.Config) {window.MathJax.Hub.Config({SVG: {font: \"STIX-Web\"}});}</script>                <script type=\"text/javascript\">window.PlotlyConfig = {MathJaxConfig: 'local'};</script>\n",
              "        <script charset=\"utf-8\" src=\"https://cdn.plot.ly/plotly-2.24.1.min.js\"></script>                <div id=\"23156e3d-e13c-4b97-a2aa-245636c5d5aa\" class=\"plotly-graph-div\" style=\"height:525px; width:100%;\"></div>            <script type=\"text/javascript\">                                    window.PLOTLYENV=window.PLOTLYENV || {};                                    if (document.getElementById(\"23156e3d-e13c-4b97-a2aa-245636c5d5aa\")) {                    Plotly.newPlot(                        \"23156e3d-e13c-4b97-a2aa-245636c5d5aa\",                        [{\"hovertemplate\":\"year=2018\\u003cbr\\u003emonths=%{x}\\u003cbr\\u003eTJ.NCV\\u002f1000=%{y}\\u003cextra\\u003e\\u003c\\u002fextra\\u003e\",\"legendgroup\":\"2018\",\"line\":{\"color\":\"#636efa\",\"dash\":\"solid\"},\"marker\":{\"symbol\":\"circle\"},\"mode\":\"lines+markers\",\"name\":\"2018\",\"orientation\":\"v\",\"showlegend\":true,\"x\":[\"jan\",\"fev\",\"mar\",\"apr\",\"may\",\"jun\",\"jul\",\"aug\",\"sep\",\"oct\",\"nov\",\"dec\"],\"xaxis\":\"x\",\"y\":[2.993,2.333,3.081,3.521,4.445,4.621,4.709,4.885,4.357,4.577,3.433,3.169],\"yaxis\":\"y\",\"type\":\"scatter\"},{\"hovertemplate\":\"year=2019\\u003cbr\\u003emonths=%{x}\\u003cbr\\u003eTJ.NCV\\u002f1000=%{y}\\u003cextra\\u003e\\u003c\\u002fextra\\u003e\",\"legendgroup\":\"2019\",\"line\":{\"color\":\"#EF553B\",\"dash\":\"solid\"},\"marker\":{\"symbol\":\"circle\"},\"mode\":\"lines+markers\",\"name\":\"2019\",\"orientation\":\"v\",\"showlegend\":true,\"x\":[\"jan\",\"fev\",\"mar\",\"apr\",\"may\",\"jun\",\"jul\",\"aug\",\"sep\",\"oct\",\"nov\",\"dec\"],\"xaxis\":\"x\",\"y\":[2.993,2.641,3.301,4.005,4.533,4.841,5.061,4.841,4.489,4.137,2.905,3.014],\"yaxis\":\"y\",\"type\":\"scatter\"},{\"hovertemplate\":\"year=2020\\u003cbr\\u003emonths=%{x}\\u003cbr\\u003eTJ.NCV\\u002f1000=%{y}\\u003cextra\\u003e\\u003c\\u002fextra\\u003e\",\"legendgroup\":\"2020\",\"line\":{\"color\":\"#00cc96\",\"dash\":\"solid\"},\"marker\":{\"symbol\":\"circle\"},\"mode\":\"lines+markers\",\"name\":\"2020\",\"orientation\":\"v\",\"showlegend\":true,\"x\":[\"jan\",\"fev\",\"mar\",\"apr\",\"may\",\"jun\",\"jul\",\"aug\",\"sep\",\"oct\",\"nov\",\"dec\"],\"xaxis\":\"x\",\"y\":[2.901,2.602,2.338,0.522,0.801,0.79,1.192,1.358,1.239,1.066,0.902,0.904],\"yaxis\":\"y\",\"type\":\"scatter\"},{\"hovertemplate\":\"year=2021\\u003cbr\\u003emonths=%{x}\\u003cbr\\u003eTJ.NCV\\u002f1000=%{y}\\u003cextra\\u003e\\u003c\\u002fextra\\u003e\",\"legendgroup\":\"2021\",\"line\":{\"color\":\"#ab63fa\",\"dash\":\"solid\"},\"marker\":{\"symbol\":\"circle\"},\"mode\":\"lines+markers\",\"name\":\"2021\",\"orientation\":\"v\",\"showlegend\":true,\"x\":[\"jan\",\"fev\",\"mar\",\"apr\",\"may\",\"jun\",\"jul\",\"aug\",\"sep\",\"oct\",\"nov\",\"dec\"],\"xaxis\":\"x\",\"y\":[1.036,0.694,0.818,0.797,0.893,1.304,1.709,2.156,2.253,2.388,2.046,2.311],\"yaxis\":\"y\",\"type\":\"scatter\"}],                        {\"template\":{\"data\":{\"histogram2dcontour\":[{\"type\":\"histogram2dcontour\",\"colorbar\":{\"outlinewidth\":0,\"ticks\":\"\"},\"colorscale\":[[0.0,\"#0d0887\"],[0.1111111111111111,\"#46039f\"],[0.2222222222222222,\"#7201a8\"],[0.3333333333333333,\"#9c179e\"],[0.4444444444444444,\"#bd3786\"],[0.5555555555555556,\"#d8576b\"],[0.6666666666666666,\"#ed7953\"],[0.7777777777777778,\"#fb9f3a\"],[0.8888888888888888,\"#fdca26\"],[1.0,\"#f0f921\"]]}],\"choropleth\":[{\"type\":\"choropleth\",\"colorbar\":{\"outlinewidth\":0,\"ticks\":\"\"}}],\"histogram2d\":[{\"type\":\"histogram2d\",\"colorbar\":{\"outlinewidth\":0,\"ticks\":\"\"},\"colorscale\":[[0.0,\"#0d0887\"],[0.1111111111111111,\"#46039f\"],[0.2222222222222222,\"#7201a8\"],[0.3333333333333333,\"#9c179e\"],[0.4444444444444444,\"#bd3786\"],[0.5555555555555556,\"#d8576b\"],[0.6666666666666666,\"#ed7953\"],[0.7777777777777778,\"#fb9f3a\"],[0.8888888888888888,\"#fdca26\"],[1.0,\"#f0f921\"]]}],\"heatmap\":[{\"type\":\"heatmap\",\"colorbar\":{\"outlinewidth\":0,\"ticks\":\"\"},\"colorscale\":[[0.0,\"#0d0887\"],[0.1111111111111111,\"#46039f\"],[0.2222222222222222,\"#7201a8\"],[0.3333333333333333,\"#9c179e\"],[0.4444444444444444,\"#bd3786\"],[0.5555555555555556,\"#d8576b\"],[0.6666666666666666,\"#ed7953\"],[0.7777777777777778,\"#fb9f3a\"],[0.8888888888888888,\"#fdca26\"],[1.0,\"#f0f921\"]]}],\"heatmapgl\":[{\"type\":\"heatmapgl\",\"colorbar\":{\"outlinewidth\":0,\"ticks\":\"\"},\"colorscale\":[[0.0,\"#0d0887\"],[0.1111111111111111,\"#46039f\"],[0.2222222222222222,\"#7201a8\"],[0.3333333333333333,\"#9c179e\"],[0.4444444444444444,\"#bd3786\"],[0.5555555555555556,\"#d8576b\"],[0.6666666666666666,\"#ed7953\"],[0.7777777777777778,\"#fb9f3a\"],[0.8888888888888888,\"#fdca26\"],[1.0,\"#f0f921\"]]}],\"contourcarpet\":[{\"type\":\"contourcarpet\",\"colorbar\":{\"outlinewidth\":0,\"ticks\":\"\"}}],\"contour\":[{\"type\":\"contour\",\"colorbar\":{\"outlinewidth\":0,\"ticks\":\"\"},\"colorscale\":[[0.0,\"#0d0887\"],[0.1111111111111111,\"#46039f\"],[0.2222222222222222,\"#7201a8\"],[0.3333333333333333,\"#9c179e\"],[0.4444444444444444,\"#bd3786\"],[0.5555555555555556,\"#d8576b\"],[0.6666666666666666,\"#ed7953\"],[0.7777777777777778,\"#fb9f3a\"],[0.8888888888888888,\"#fdca26\"],[1.0,\"#f0f921\"]]}],\"surface\":[{\"type\":\"surface\",\"colorbar\":{\"outlinewidth\":0,\"ticks\":\"\"},\"colorscale\":[[0.0,\"#0d0887\"],[0.1111111111111111,\"#46039f\"],[0.2222222222222222,\"#7201a8\"],[0.3333333333333333,\"#9c179e\"],[0.4444444444444444,\"#bd3786\"],[0.5555555555555556,\"#d8576b\"],[0.6666666666666666,\"#ed7953\"],[0.7777777777777778,\"#fb9f3a\"],[0.8888888888888888,\"#fdca26\"],[1.0,\"#f0f921\"]]}],\"mesh3d\":[{\"type\":\"mesh3d\",\"colorbar\":{\"outlinewidth\":0,\"ticks\":\"\"}}],\"scatter\":[{\"fillpattern\":{\"fillmode\":\"overlay\",\"size\":10,\"solidity\":0.2},\"type\":\"scatter\"}],\"parcoords\":[{\"type\":\"parcoords\",\"line\":{\"colorbar\":{\"outlinewidth\":0,\"ticks\":\"\"}}}],\"scatterpolargl\":[{\"type\":\"scatterpolargl\",\"marker\":{\"colorbar\":{\"outlinewidth\":0,\"ticks\":\"\"}}}],\"bar\":[{\"error_x\":{\"color\":\"#2a3f5f\"},\"error_y\":{\"color\":\"#2a3f5f\"},\"marker\":{\"line\":{\"color\":\"#E5ECF6\",\"width\":0.5},\"pattern\":{\"fillmode\":\"overlay\",\"size\":10,\"solidity\":0.2}},\"type\":\"bar\"}],\"scattergeo\":[{\"type\":\"scattergeo\",\"marker\":{\"colorbar\":{\"outlinewidth\":0,\"ticks\":\"\"}}}],\"scatterpolar\":[{\"type\":\"scatterpolar\",\"marker\":{\"colorbar\":{\"outlinewidth\":0,\"ticks\":\"\"}}}],\"histogram\":[{\"marker\":{\"pattern\":{\"fillmode\":\"overlay\",\"size\":10,\"solidity\":0.2}},\"type\":\"histogram\"}],\"scattergl\":[{\"type\":\"scattergl\",\"marker\":{\"colorbar\":{\"outlinewidth\":0,\"ticks\":\"\"}}}],\"scatter3d\":[{\"type\":\"scatter3d\",\"line\":{\"colorbar\":{\"outlinewidth\":0,\"ticks\":\"\"}},\"marker\":{\"colorbar\":{\"outlinewidth\":0,\"ticks\":\"\"}}}],\"scattermapbox\":[{\"type\":\"scattermapbox\",\"marker\":{\"colorbar\":{\"outlinewidth\":0,\"ticks\":\"\"}}}],\"scatterternary\":[{\"type\":\"scatterternary\",\"marker\":{\"colorbar\":{\"outlinewidth\":0,\"ticks\":\"\"}}}],\"scattercarpet\":[{\"type\":\"scattercarpet\",\"marker\":{\"colorbar\":{\"outlinewidth\":0,\"ticks\":\"\"}}}],\"carpet\":[{\"aaxis\":{\"endlinecolor\":\"#2a3f5f\",\"gridcolor\":\"white\",\"linecolor\":\"white\",\"minorgridcolor\":\"white\",\"startlinecolor\":\"#2a3f5f\"},\"baxis\":{\"endlinecolor\":\"#2a3f5f\",\"gridcolor\":\"white\",\"linecolor\":\"white\",\"minorgridcolor\":\"white\",\"startlinecolor\":\"#2a3f5f\"},\"type\":\"carpet\"}],\"table\":[{\"cells\":{\"fill\":{\"color\":\"#EBF0F8\"},\"line\":{\"color\":\"white\"}},\"header\":{\"fill\":{\"color\":\"#C8D4E3\"},\"line\":{\"color\":\"white\"}},\"type\":\"table\"}],\"barpolar\":[{\"marker\":{\"line\":{\"color\":\"#E5ECF6\",\"width\":0.5},\"pattern\":{\"fillmode\":\"overlay\",\"size\":10,\"solidity\":0.2}},\"type\":\"barpolar\"}],\"pie\":[{\"automargin\":true,\"type\":\"pie\"}]},\"layout\":{\"autotypenumbers\":\"strict\",\"colorway\":[\"#636efa\",\"#EF553B\",\"#00cc96\",\"#ab63fa\",\"#FFA15A\",\"#19d3f3\",\"#FF6692\",\"#B6E880\",\"#FF97FF\",\"#FECB52\"],\"font\":{\"color\":\"#2a3f5f\"},\"hovermode\":\"closest\",\"hoverlabel\":{\"align\":\"left\"},\"paper_bgcolor\":\"white\",\"plot_bgcolor\":\"#E5ECF6\",\"polar\":{\"bgcolor\":\"#E5ECF6\",\"angularaxis\":{\"gridcolor\":\"white\",\"linecolor\":\"white\",\"ticks\":\"\"},\"radialaxis\":{\"gridcolor\":\"white\",\"linecolor\":\"white\",\"ticks\":\"\"}},\"ternary\":{\"bgcolor\":\"#E5ECF6\",\"aaxis\":{\"gridcolor\":\"white\",\"linecolor\":\"white\",\"ticks\":\"\"},\"baxis\":{\"gridcolor\":\"white\",\"linecolor\":\"white\",\"ticks\":\"\"},\"caxis\":{\"gridcolor\":\"white\",\"linecolor\":\"white\",\"ticks\":\"\"}},\"coloraxis\":{\"colorbar\":{\"outlinewidth\":0,\"ticks\":\"\"}},\"colorscale\":{\"sequential\":[[0.0,\"#0d0887\"],[0.1111111111111111,\"#46039f\"],[0.2222222222222222,\"#7201a8\"],[0.3333333333333333,\"#9c179e\"],[0.4444444444444444,\"#bd3786\"],[0.5555555555555556,\"#d8576b\"],[0.6666666666666666,\"#ed7953\"],[0.7777777777777778,\"#fb9f3a\"],[0.8888888888888888,\"#fdca26\"],[1.0,\"#f0f921\"]],\"sequentialminus\":[[0.0,\"#0d0887\"],[0.1111111111111111,\"#46039f\"],[0.2222222222222222,\"#7201a8\"],[0.3333333333333333,\"#9c179e\"],[0.4444444444444444,\"#bd3786\"],[0.5555555555555556,\"#d8576b\"],[0.6666666666666666,\"#ed7953\"],[0.7777777777777778,\"#fb9f3a\"],[0.8888888888888888,\"#fdca26\"],[1.0,\"#f0f921\"]],\"diverging\":[[0,\"#8e0152\"],[0.1,\"#c51b7d\"],[0.2,\"#de77ae\"],[0.3,\"#f1b6da\"],[0.4,\"#fde0ef\"],[0.5,\"#f7f7f7\"],[0.6,\"#e6f5d0\"],[0.7,\"#b8e186\"],[0.8,\"#7fbc41\"],[0.9,\"#4d9221\"],[1,\"#276419\"]]},\"xaxis\":{\"gridcolor\":\"white\",\"linecolor\":\"white\",\"ticks\":\"\",\"title\":{\"standoff\":15},\"zerolinecolor\":\"white\",\"automargin\":true,\"zerolinewidth\":2},\"yaxis\":{\"gridcolor\":\"white\",\"linecolor\":\"white\",\"ticks\":\"\",\"title\":{\"standoff\":15},\"zerolinecolor\":\"white\",\"automargin\":true,\"zerolinewidth\":2},\"scene\":{\"xaxis\":{\"backgroundcolor\":\"#E5ECF6\",\"gridcolor\":\"white\",\"linecolor\":\"white\",\"showbackground\":true,\"ticks\":\"\",\"zerolinecolor\":\"white\",\"gridwidth\":2},\"yaxis\":{\"backgroundcolor\":\"#E5ECF6\",\"gridcolor\":\"white\",\"linecolor\":\"white\",\"showbackground\":true,\"ticks\":\"\",\"zerolinecolor\":\"white\",\"gridwidth\":2},\"zaxis\":{\"backgroundcolor\":\"#E5ECF6\",\"gridcolor\":\"white\",\"linecolor\":\"white\",\"showbackground\":true,\"ticks\":\"\",\"zerolinecolor\":\"white\",\"gridwidth\":2}},\"shapedefaults\":{\"line\":{\"color\":\"#2a3f5f\"}},\"annotationdefaults\":{\"arrowcolor\":\"#2a3f5f\",\"arrowhead\":0,\"arrowwidth\":1},\"geo\":{\"bgcolor\":\"white\",\"landcolor\":\"#E5ECF6\",\"subunitcolor\":\"white\",\"showland\":true,\"showlakes\":true,\"lakecolor\":\"white\"},\"title\":{\"x\":0.05},\"mapbox\":{\"style\":\"light\"}}},\"xaxis\":{\"anchor\":\"y\",\"domain\":[0.0,1.0],\"title\":{\"text\":\"months\"}},\"yaxis\":{\"anchor\":\"x\",\"domain\":[0.0,1.0],\"title\":{\"text\":\"TJ.NCV\\u002f1000\"}},\"legend\":{\"title\":{\"text\":\"year\"},\"tracegroupgap\":0},\"title\":{\"text\":\"Oil Product Monthly Deliveries Ireland - Jet Fuel Kerosene\",\"font\":{\"size\":30},\"x\":0.5}},                        {\"responsive\": true}                    ).then(function(){\n",
              "                            \n",
              "var gd = document.getElementById('23156e3d-e13c-4b97-a2aa-245636c5d5aa');\n",
              "var x = new MutationObserver(function (mutations, observer) {{\n",
              "        var display = window.getComputedStyle(gd).display;\n",
              "        if (!display || display === 'none') {{\n",
              "            console.log([gd, 'removed!']);\n",
              "            Plotly.purge(gd);\n",
              "            observer.disconnect();\n",
              "        }}\n",
              "}});\n",
              "\n",
              "// Listen for the removal of the full notebook cells\n",
              "var notebookContainer = gd.closest('#notebook-container');\n",
              "if (notebookContainer) {{\n",
              "    x.observe(notebookContainer, {childList: true});\n",
              "}}\n",
              "\n",
              "// Listen for the clearing of the current output cell\n",
              "var outputEl = gd.closest('.output');\n",
              "if (outputEl) {{\n",
              "    x.observe(outputEl, {childList: true});\n",
              "}}\n",
              "\n",
              "                        })                };                            </script>        </div>\n",
              "</body>\n",
              "</html>"
            ]
          },
          "metadata": {}
        }
      ]
    }
  ]
}